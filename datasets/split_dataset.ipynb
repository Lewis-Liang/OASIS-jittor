{
 "cells": [
  {
   "cell_type": "code",
   "execution_count": 1,
   "id": "5d9b70ba-f653-4553-a0c1-a6db5da8a7c1",
   "metadata": {},
   "outputs": [],
   "source": [
    "from pathlib import Path\n",
    "import os\n",
    "import os.path as osp\n",
    "import random"
   ]
  },
  {
   "cell_type": "code",
   "execution_count": 2,
   "id": "35cd844c-f666-4f1c-8ece-af36dcedd0a6",
   "metadata": {},
   "outputs": [],
   "source": [
    "seed = 42\n",
    "random.seed(seed)\n",
    "\n",
    "num = 400"
   ]
  },
  {
   "cell_type": "code",
   "execution_count": 5,
   "id": "7d74a271-aaf3-41ef-9237-7bf17e28ca00",
   "metadata": {},
   "outputs": [],
   "source": [
    "dataroot = Path('/root/autodl-tmp/OASIS/datasets/landscape')\n",
    "trainimgs = dataroot / \"train\" / \"imgs\"\n",
    "testimgs = dataroot / \"val\" / \"imgs\"\n",
    "trainlabels = dataroot / \"train\" / \"labels\"\n",
    "testlabels = dataroot / \"val\" / \"labels\""
   ]
  },
  {
   "cell_type": "code",
   "execution_count": 6,
   "id": "827b3d61-6936-4113-af22-982dcc3d7ef2",
   "metadata": {},
   "outputs": [
    {
     "data": {
      "text/plain": [
       "PosixPath('/root/autodl-tmp/OASIS/datasets/landscape/train/imgs/100014096_141b4dfc84_b.jpg')"
      ]
     },
     "execution_count": 6,
     "metadata": {},
     "output_type": "execute_result"
    }
   ],
   "source": [
    "imglist = sorted(trainimgs.iterdir())\n",
    "imglist[0]"
   ]
  },
  {
   "cell_type": "code",
   "execution_count": 7,
   "id": "c7e95c2a-45b5-4c65-8a28-d1e0a1924364",
   "metadata": {},
   "outputs": [
    {
     "data": {
      "text/plain": [
       "PosixPath('/root/autodl-tmp/OASIS/datasets/landscape/train/labels/100014096_141b4dfc84_b.png')"
      ]
     },
     "execution_count": 7,
     "metadata": {},
     "output_type": "execute_result"
    }
   ],
   "source": [
    "labellist = sorted(trainlabels.iterdir())\n",
    "labellist[0]"
   ]
  },
  {
   "cell_type": "code",
   "execution_count": 8,
   "id": "f5a80c32-e9f8-4d47-b387-4bfe922f71ff",
   "metadata": {},
   "outputs": [
    {
     "data": {
      "text/plain": [
       "(PosixPath('/root/autodl-tmp/OASIS/datasets/landscape/train/imgs/100670668_96aac998c5_b.jpg'),\n",
       " PosixPath('/root/autodl-tmp/OASIS/datasets/landscape/train/labels/100670668_96aac998c5_b.png'))"
      ]
     },
     "execution_count": 8,
     "metadata": {},
     "output_type": "execute_result"
    }
   ],
   "source": [
    "sampled_imglist = sorted(random.sample(imglist, num))\n",
    "sampled_lablelist = sorted(map(lambda x:trainlabels / (x.stem + '.png'), sampled_imglist))\n",
    "sampled_imglist[0],sampled_lablelist[0]"
   ]
  },
  {
   "cell_type": "code",
   "execution_count": 9,
   "id": "3a103e95-952d-4690-ac72-69345bc482bd",
   "metadata": {},
   "outputs": [],
   "source": [
    "for i in range(num):\n",
    "    assert sampled_imglist[i].stem == sampled_lablelist[i].stem"
   ]
  },
  {
   "cell_type": "code",
   "execution_count": 10,
   "id": "069479d4-7d2e-47a3-a6a4-4399ba1659e7",
   "metadata": {},
   "outputs": [
    {
     "data": {
      "text/plain": [
       "(PosixPath('/root/autodl-tmp/OASIS/datasets/landscape/train/imgs/100670668_96aac998c5_b.jpg'),\n",
       " PosixPath('/root/autodl-tmp/OASIS/datasets/landscape/train/labels/100670668_96aac998c5_b.png'))"
      ]
     },
     "execution_count": 10,
     "metadata": {},
     "output_type": "execute_result"
    }
   ],
   "source": [
    "sampled_imglist[0], sampled_lablelist[0]"
   ]
  },
  {
   "cell_type": "code",
   "execution_count": 11,
   "id": "5fcdf326-6d95-47e1-a15a-e8be5c41dcd9",
   "metadata": {},
   "outputs": [],
   "source": [
    "target_imglist = sorted(map(lambda x:testimgs / x.name, sampled_imglist))\n",
    "target_labellist = sorted(map(lambda x:testlabels / x.name, sampled_lablelist))"
   ]
  },
  {
   "cell_type": "code",
   "execution_count": 12,
   "id": "86bca87f-5f29-4a5d-a2f3-394c1d13b8ed",
   "metadata": {},
   "outputs": [],
   "source": [
    "for i in range(num):\n",
    "    assert sampled_lablelist[i].stem == target_labellist[i].stem, f\"{sampled_lablelist[i].stem}, {target_labellist[i].stem}\""
   ]
  },
  {
   "cell_type": "code",
   "execution_count": null,
   "id": "8ad4d87c-d650-4df9-82c0-e310df154b31",
   "metadata": {},
   "outputs": [],
   "source": []
  },
  {
   "cell_type": "code",
   "execution_count": 13,
   "id": "eced6767-36dd-44e8-9e9f-c50058f87200",
   "metadata": {},
   "outputs": [],
   "source": [
    "from shutil import move"
   ]
  },
  {
   "cell_type": "code",
   "execution_count": 14,
   "id": "700dc46c-3593-4915-a182-692a46aa438f",
   "metadata": {},
   "outputs": [],
   "source": [
    "for src,dst in zip(sampled_imglist,target_imglist):\n",
    "    assert src.stem == dst.stem, f\"{src.stem}, {dst.stem}\"\n",
    "    move(src, dst)"
   ]
  },
  {
   "cell_type": "code",
   "execution_count": 15,
   "id": "ecaa2e77-b9d3-4424-b677-0b615a87112a",
   "metadata": {},
   "outputs": [],
   "source": [
    "for src,dst in zip(sampled_lablelist,target_labellist):\n",
    "    assert src.stem == dst.stem, f\"{src.stem}, {dst.stem}\"    \n",
    "    move(src, dst)"
   ]
  },
  {
   "cell_type": "code",
   "execution_count": 16,
   "id": "907da46b-43ad-41dc-bfa7-580ed8cf1ccd",
   "metadata": {
    "tags": []
   },
   "outputs": [],
   "source": [
    "imgs = sorted(testimgs.iterdir())\n",
    "labels = sorted(testlabels.iterdir())"
   ]
  },
  {
   "cell_type": "code",
   "execution_count": 17,
   "id": "2d0d7b35-1c89-443b-aa1f-88c97d8a660e",
   "metadata": {},
   "outputs": [
    {
     "data": {
      "text/plain": [
       "(400, 400)"
      ]
     },
     "execution_count": 17,
     "metadata": {},
     "output_type": "execute_result"
    }
   ],
   "source": [
    "len(imgs),len(labels)"
   ]
  },
  {
   "cell_type": "code",
   "execution_count": 18,
   "id": "9e1fe856-fb8e-43eb-8d20-b1d324ef4504",
   "metadata": {},
   "outputs": [
    {
     "data": {
      "text/plain": [
       "(9600, 9600)"
      ]
     },
     "execution_count": 18,
     "metadata": {},
     "output_type": "execute_result"
    }
   ],
   "source": [
    "imglist = sorted(trainimgs.iterdir())\n",
    "labellist = sorted(trainlabels.iterdir())\n",
    "len(imglist),len(labellist)"
   ]
  },
  {
   "cell_type": "code",
   "execution_count": 19,
   "id": "85a51c85-bf40-4fd1-8fda-4af2afd74b1d",
   "metadata": {},
   "outputs": [],
   "source": [
    "for i in range(num):\n",
    "    image_name, label_name = os.path.splitext(osp.split(imgs[i])[1])[0], os.path.splitext(osp.split(labels[i])[1])[0]\n",
    "    assert image_name == label_name,\\\n",
    "        '%s and %s are not matching' % (imgs[i], labels[i])"
   ]
  }
 ],
 "metadata": {
  "kernelspec": {
   "display_name": "Python 3 (ipykernel)",
   "language": "python",
   "name": "python3"
  },
  "language_info": {
   "codemirror_mode": {
    "name": "ipython",
    "version": 3
   },
   "file_extension": ".py",
   "mimetype": "text/x-python",
   "name": "python",
   "nbconvert_exporter": "python",
   "pygments_lexer": "ipython3",
   "version": "3.8.10"
  }
 },
 "nbformat": 4,
 "nbformat_minor": 5
}
