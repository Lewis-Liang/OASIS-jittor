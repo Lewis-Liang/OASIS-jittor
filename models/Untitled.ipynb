{
 "cells": [
  {
   "cell_type": "code",
   "execution_count": 1,
   "id": "4fed1ea2-180d-41f2-890e-7d3081a40892",
   "metadata": {},
   "outputs": [
    {
     "name": "stderr",
     "output_type": "stream",
     "text": [
      "\u001b[38;5;2m[i 0517 22:52:54.455289 36 log.cc:351] Load log_sync: 1\u001b[m\n",
      "\u001b[38;5;2m[i 0517 22:52:54.501352 36 compiler.py:951] Jittor(1.3.4.4) src: /root/miniconda3/lib/python3.7/site-packages/jittor\u001b[m\n",
      "\u001b[38;5;2m[i 0517 22:52:54.505957 36 compiler.py:952] g++ at /usr/bin/g++(7.5.0)\u001b[m\n",
      "\u001b[38;5;2m[i 0517 22:52:54.506632 36 compiler.py:953] cache_path: /root/.cache/jittor/jt1.3.4/g++7.5.0/py3.7.9/Linux-5.4.0-96x39/IntelRXeonRPlax40/default\u001b[m\n",
      "\u001b[38;5;2m[i 0517 22:52:54.511626 36 __init__.py:411] Found nvcc(11.3.109) at /usr/local/cuda/bin/nvcc.\u001b[m\n",
      "\u001b[38;5;2m[i 0517 22:52:54.516825 36 __init__.py:411] Found addr2line(2.30) at /usr/bin/addr2line.\u001b[m\n",
      "\u001b[38;5;2m[i 0517 22:52:54.659866 36 compiler.py:1006] cuda key:cu11.3.109_sm_75\u001b[m\n",
      "\u001b[38;5;2m[i 0517 22:52:54.891046 36 __init__.py:227] Total mem: 376.05GB, using 16 procs for compiling.\u001b[m\n",
      "\u001b[38;5;2m[i 0517 22:52:55.028243 36 jit_compiler.cc:28] Load cc_path: /usr/bin/g++\u001b[m\n",
      "\u001b[38;5;2m[i 0517 22:52:55.206032 36 init.cc:62] Found cuda archs: [75,]\u001b[m\n",
      "\u001b[38;5;2m[i 0517 22:52:55.393670 36 compile_extern.py:516] mpicc not found, distribution disabled.\u001b[m\n",
      "\u001b[38;5;2m[i 0517 22:52:55.448005 36 compile_extern.py:30] found /usr/local/cuda/include/cublas.h\u001b[m\n",
      "\u001b[38;5;2m[i 0517 22:52:55.457948 36 compile_extern.py:30] found /usr/local/cuda/lib64/libcublas.so\u001b[m\n",
      "\u001b[38;5;2m[i 0517 22:52:55.458921 36 compile_extern.py:30] found /usr/local/cuda/lib64/libcublasLt.so.11\u001b[m\n",
      "\u001b[38;5;2m[i 0517 22:52:55.957526 36 compile_extern.py:30] found /usr/include/cudnn.h\u001b[m\n",
      "\u001b[38;5;2m[i 0517 22:52:56.001224 36 compile_extern.py:30] found /usr/lib/x86_64-linux-gnu/libcudnn.so.8\u001b[m\n",
      "\u001b[38;5;2m[i 0517 22:52:56.002278 36 compile_extern.py:30] found /usr/lib/x86_64-linux-gnu/libcudnn_ops_infer.so.8\u001b[m\n",
      "\u001b[38;5;2m[i 0517 22:52:56.005906 36 compile_extern.py:30] found /usr/lib/x86_64-linux-gnu/libcudnn_ops_train.so.8\u001b[m\n",
      "\u001b[38;5;2m[i 0517 22:52:56.007091 36 compile_extern.py:30] found /usr/lib/x86_64-linux-gnu/libcudnn_cnn_infer.so.8\u001b[m\n",
      "\u001b[38;5;2m[i 0517 22:52:56.047765 36 compile_extern.py:30] found /usr/lib/x86_64-linux-gnu/libcudnn_cnn_train.so.8\u001b[m\n",
      "\u001b[38;5;2m[i 0517 22:52:56.532386 36 compile_extern.py:30] found /usr/local/cuda/include/curand.h\u001b[m\n",
      "\u001b[38;5;2m[i 0517 22:52:56.586786 36 compile_extern.py:30] found /usr/local/cuda/lib64/libcurand.so\u001b[m\n",
      "\u001b[38;5;2m[i 0517 22:52:56.605521 36 compile_extern.py:30] found /usr/local/cuda/include/cufft.h\u001b[m\n",
      "\u001b[38;5;2m[i 0517 22:52:56.650100 36 compile_extern.py:30] found /usr/local/cuda/lib64/libcufft.so\u001b[m\n"
     ]
    }
   ],
   "source": [
    "import jittor as jt"
   ]
  },
  {
   "cell_type": "code",
   "execution_count": 29,
   "id": "abd96bab-abd1-4514-8056-472c08e40b9c",
   "metadata": {},
   "outputs": [
    {
     "data": {
      "text/plain": [
       "0"
      ]
     },
     "execution_count": 29,
     "metadata": {},
     "output_type": "execute_result"
    }
   ],
   "source": [
    "jt.flags.amp_reg & 16"
   ]
  },
  {
   "cell_type": "code",
   "execution_count": 36,
   "id": "d12896a9-72a9-4832-9e65-7774a7cc7630",
   "metadata": {},
   "outputs": [
    {
     "name": "stderr",
     "output_type": "stream",
     "text": [
      "\u001b[38;5;2m[i 0517 23:29:03.936730 36 cuda_flags.cc:32] CUDA enabled.\u001b[m\n"
     ]
    },
    {
     "name": "stdout",
     "output_type": "stream",
     "text": [
      "float32 2\n",
      "addr2line_path : /usr/bin/addr2line\n",
      "amp_level : 4\n",
      "amp_reg : 2\n",
      "auto_convert_64_to_32 : 1\n",
      "auto_mixed_precision_level : 4\n",
      "cache_path : /root/.cache/jittor/jt1.3.4/g++7.5.0/py3.7.9/Linux-5.4.0-96x39/IntelRXeonRPlax40/default/cu11.3.109_sm_75\n",
      "cc_flags :   -Wall -Wno-unknown-pragmas -std=c++14 -fPIC  -march=native  -fdiagnostics-color=always  -lstdc++ -ldl -shared  -I\"/root/miniconda3/lib/python3.7/site-packages/jittor/src\" -I/root/miniconda3/include/python3.7m -I/root/miniconda3/include/python3.7m -DHAS_CUDA -DIS_CUDA -I\"/usr/local/cuda/include\" -I\"/root/miniconda3/lib/python3.7/site-packages/jittor/extern/cuda/inc\"  -lcudart -L\"/usr/local/cuda/lib64\"  -I\"/root/.cache/jittor/jt1.3.4/g++7.5.0/py3.7.9/Linux-5.4.0-96x39/IntelRXeonRPlax40/default/cu11.3.109_sm_75\" -L\"/root/.cache/jittor/jt1.3.4/g++7.5.0/py3.7.9/Linux-5.4.0-96x39/IntelRXeonRPlax40/default/cu11.3.109_sm_75\" -L\"/root/.cache/jittor/jt1.3.4/g++7.5.0/py3.7.9/Linux-5.4.0-96x39/IntelRXeonRPlax40/default\"  -l\"jit_utils_core.cpython-37m-x86_64-linux-gnu\"  -l\"jittor_core.cpython-37m-x86_64-linux-gnu\"  -fopenmp  -Ofast \n",
      "cc_path : /usr/bin/g++\n",
      "cc_type : g++\n",
      "check_graph : 0\n",
      "compile_options : {}\n",
      "cuda_archs : [75]\n",
      "disable_lock : False\n",
      "enable_tuner : 1\n",
      "exclude_pass : \n",
      "extra_gdb_cmd : \n",
      "gdb_attach : 0\n",
      "gdb_path : \n",
      "gopt_disable : 0\n",
      "has_pybt : 0\n",
      "jit_search_kernel : 0\n",
      "jit_search_rerun : 10\n",
      "jit_search_warmup : 2\n",
      "jittor_path : /root/miniconda3/lib/python3.7/site-packages/jittor\n",
      "l1_cache_size : 32768\n",
      "lazy_execution : 1\n",
      "log_file : \n",
      "log_op_hash : \n",
      "log_silent : 0\n",
      "log_sync : 1\n",
      "log_v : 0\n",
      "log_vprefix : \n",
      "no_fuse : False\n",
      "no_grad : False\n",
      "node_order : 0\n",
      "nvcc_flags :       -std=c++14 -Xcompiler -fPIC  -Xcompiler -march=native  -Xcompiler -fdiagnostics-color=always  -lstdc++ -ldl -shared  -I\"/root/miniconda3/lib/python3.7/site-packages/jittor/src\" -I/root/miniconda3/include/python3.7m -I/root/miniconda3/include/python3.7m -DHAS_CUDA -DIS_CUDA -I\"/usr/local/cuda/include\" -I\"/root/miniconda3/lib/python3.7/site-packages/jittor/extern/cuda/inc\"  -lcudart -L\"/usr/local/cuda/lib64\"  -I\"/root/.cache/jittor/jt1.3.4/g++7.5.0/py3.7.9/Linux-5.4.0-96x39/IntelRXeonRPlax40/default/cu11.3.109_sm_75\" -L\"/root/.cache/jittor/jt1.3.4/g++7.5.0/py3.7.9/Linux-5.4.0-96x39/IntelRXeonRPlax40/default/cu11.3.109_sm_75\" -L\"/root/.cache/jittor/jt1.3.4/g++7.5.0/py3.7.9/Linux-5.4.0-96x39/IntelRXeonRPlax40/default\"  -l\"jit_utils_core.cpython-37m-x86_64-linux-gnu\"  -l\"jittor_core.cpython-37m-x86_64-linux-gnu\"  -x cu --cudart=shared -ccbin=\"/usr/bin/g++\" --use_fast_math  -w  -I\"/root/miniconda3/lib/python3.7/site-packages/jittor/extern/cuda/inc\"  -arch=compute_75  -code=sm_75 \n",
      "nvcc_path : /usr/local/cuda/bin/nvcc\n",
      "para_opt_level : 3\n",
      "profile_memory_enable : 0\n",
      "profiler_enable : 0\n",
      "profiler_hide_relay : 0\n",
      "profiler_record_peek : 0\n",
      "profiler_record_shape : 0\n",
      "profiler_rerun : 0\n",
      "profiler_warmup : 0\n",
      "python_path : /root/miniconda3/bin/python\n",
      "rewrite_op : 1\n",
      "stat_allocator_total_alloc_byte : 0\n",
      "stat_allocator_total_alloc_call : 0\n",
      "stat_allocator_total_free_byte : 0\n",
      "stat_allocator_total_free_call : 0\n",
      "trace_depth : 10\n",
      "trace_py_var : 0\n",
      "trace_var_data : 0\n",
      "try_use_32bit_index : 0\n",
      "use_acl : 1\n",
      "use_cuda : 1\n",
      "use_cuda_managed_allocator : 0\n",
      "use_device : 1\n",
      "use_nfef_allocator : 0\n",
      "use_parallel_op_compiler : 16\n",
      "use_sfrl_allocator : 1\n",
      "use_stat_allocator : 0\n",
      "use_temp_allocator : 1\n",
      "use_tensorcore : 0\n"
     ]
    }
   ],
   "source": [
    "@jt.flag_scope(amp_level=jt.flags.amp_level | 4, use_cuda=1, use_cuda_managed_allocator=0)\n",
    "def test_amp_level():\n",
    "    a = jt.rand((3,3))\n",
    "    print(a.dtype, jt.flags.amp_reg)\n",
    "    for flag in dir(jt.flags):\n",
    "        if flag[0] != '_':\n",
    "            print(flag, \":\", eval(f\"jt.flags.{flag}\"))\n",
    "\n",
    "test_amp_level()"
   ]
  },
  {
   "cell_type": "code",
   "execution_count": 9,
   "id": "482396db-e6d3-4097-b6c1-eb8183956c56",
   "metadata": {},
   "outputs": [
    {
     "name": "stdout",
     "output_type": "stream",
     "text": [
      "float16\n"
     ]
    }
   ],
   "source": []
  },
  {
   "cell_type": "code",
   "execution_count": null,
   "id": "484034ea-366e-43b5-b752-7ea8e0f656ca",
   "metadata": {},
   "outputs": [],
   "source": []
  }
 ],
 "metadata": {
  "kernelspec": {
   "display_name": "Python 3 (ipykernel)",
   "language": "python",
   "name": "python3"
  },
  "language_info": {
   "codemirror_mode": {
    "name": "ipython",
    "version": 3
   },
   "file_extension": ".py",
   "mimetype": "text/x-python",
   "name": "python",
   "nbconvert_exporter": "python",
   "pygments_lexer": "ipython3",
   "version": "3.7.9"
  }
 },
 "nbformat": 4,
 "nbformat_minor": 5
}
